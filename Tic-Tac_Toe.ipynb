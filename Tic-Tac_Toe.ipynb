{
 "cells": [
  {
   "cell_type": "code",
   "execution_count": 12,
   "metadata": {},
   "outputs": [
    {
     "ename": "SyntaxError",
     "evalue": "invalid syntax (<ipython-input-12-52398fb09a8b>, line 15)",
     "output_type": "error",
     "traceback": [
      "\u001b[1;36m  File \u001b[1;32m\"<ipython-input-12-52398fb09a8b>\"\u001b[1;36m, line \u001b[1;32m15\u001b[0m\n\u001b[1;33m    board[] = 'X'\u001b[0m\n\u001b[1;37m          ^\u001b[0m\n\u001b[1;31mSyntaxError\u001b[0m\u001b[1;31m:\u001b[0m invalid syntax\n"
     ]
    }
   ],
   "source": [
    "def func(move):\n",
    "    winner = False\n",
    "    toggle = True\n",
    "    board = [[move[1]],[move[2]],[move[3]],'\\n',\n",
    "            [move[4]],[move[5]],[move[6]],'\\n',\n",
    "            [move[7]],[move[8]],[move[9]]]\n",
    "    for i in board:\n",
    "        #for j in i:\n",
    "        print(i, end = \" \")\n",
    "    print()\n",
    "    for i in range(5):\n",
    "        move = int(input('What is your next move?'))\n",
    "        for b in board:\n",
    "            if move == b and toggle:\n",
    "                board[] = 'X'\n",
    "            if move == b and not toggle:\n",
    "                b = 'O'\n",
    "            toggle = not toggle\n",
    "            print(b, end = \" \" )\n",
    "        print()"
   ]
  },
  {
   "cell_type": "code",
   "execution_count": 6,
   "metadata": {},
   "outputs": [
    {
     "ename": "TypeError",
     "evalue": "func() takes 0 positional arguments but 1 was given",
     "output_type": "error",
     "traceback": [
      "\u001b[1;31m---------------------------------------------------------------------------\u001b[0m",
      "\u001b[1;31mTypeError\u001b[0m                                 Traceback (most recent call last)",
      "\u001b[1;32m<ipython-input-6-1c6d223fb96c>\u001b[0m in \u001b[0;36m<module>\u001b[1;34m()\u001b[0m\n\u001b[0;32m      1\u001b[0m \u001b[0mtest_board\u001b[0m \u001b[1;33m=\u001b[0m \u001b[1;33m[\u001b[0m\u001b[1;36m0\u001b[0m\u001b[1;33m,\u001b[0m\u001b[1;36m1\u001b[0m\u001b[1;33m,\u001b[0m\u001b[1;36m2\u001b[0m\u001b[1;33m,\u001b[0m\u001b[1;36m3\u001b[0m\u001b[1;33m,\u001b[0m\u001b[1;36m4\u001b[0m\u001b[1;33m,\u001b[0m\u001b[1;36m5\u001b[0m\u001b[1;33m,\u001b[0m\u001b[1;36m6\u001b[0m\u001b[1;33m,\u001b[0m\u001b[1;36m7\u001b[0m\u001b[1;33m,\u001b[0m\u001b[1;36m8\u001b[0m\u001b[1;33m,\u001b[0m\u001b[1;36m9\u001b[0m\u001b[1;33m]\u001b[0m\u001b[1;33m\u001b[0m\u001b[0m\n\u001b[1;32m----> 2\u001b[1;33m \u001b[0mfunc\u001b[0m\u001b[1;33m(\u001b[0m\u001b[0mtest_board\u001b[0m\u001b[1;33m)\u001b[0m\u001b[1;33m\u001b[0m\u001b[0m\n\u001b[0m",
      "\u001b[1;31mTypeError\u001b[0m: func() takes 0 positional arguments but 1 was given"
     ]
    }
   ],
   "source": [
    "test_board = [0,1,2,3,4,5,6,7,8,9]\n",
    "func(test_board)"
   ]
  },
  {
   "cell_type": "code",
   "execution_count": null,
   "metadata": {},
   "outputs": [],
   "source": []
  },
  {
   "cell_type": "code",
   "execution_count": null,
   "metadata": {},
   "outputs": [],
   "source": []
  },
  {
   "cell_type": "code",
   "execution_count": 7,
   "metadata": {},
   "outputs": [],
   "source": [
    "def showboard(board):\n",
    "    print(board[1] , '|', board[2] ,'|', board[3])\n",
    "    print('----------------')\n",
    "    print(board[4] , '|', board[5] , '|' , board[6])\n",
    "    print('------------------------------------')\n",
    "    print(board[7] , '|' , board[8] , '|' , board[9])\n",
    "    print('------------------------------------')"
   ]
  },
  {
   "cell_type": "code",
   "execution_count": null,
   "metadata": {},
   "outputs": [],
   "source": []
  },
  {
   "cell_type": "code",
   "execution_count": null,
   "metadata": {},
   "outputs": [],
   "source": []
  },
  {
   "cell_type": "code",
   "execution_count": null,
   "metadata": {},
   "outputs": [],
   "source": []
  },
  {
   "cell_type": "code",
   "execution_count": 8,
   "metadata": {},
   "outputs": [
    {
     "name": "stdout",
     "output_type": "stream",
     "text": [
      "1 | 2 | 3\n",
      "----------------\n"
     ]
    },
    {
     "ename": "IndexError",
     "evalue": "list index out of range",
     "output_type": "error",
     "traceback": [
      "\u001b[1;31m---------------------------------------------------------------------------\u001b[0m",
      "\u001b[1;31mIndexError\u001b[0m                                Traceback (most recent call last)",
      "\u001b[1;32m<ipython-input-8-243795a40dd4>\u001b[0m in \u001b[0;36m<module>\u001b[1;34m()\u001b[0m\n\u001b[0;32m      1\u001b[0m \u001b[0mtestboard\u001b[0m \u001b[1;33m=\u001b[0m \u001b[1;33m[\u001b[0m\u001b[1;36m0\u001b[0m\u001b[1;33m,\u001b[0m\u001b[1;36m1\u001b[0m\u001b[1;33m,\u001b[0m\u001b[1;36m2\u001b[0m\u001b[1;33m,\u001b[0m\u001b[1;36m3\u001b[0m\u001b[1;33m]\u001b[0m\u001b[1;33m\u001b[0m\u001b[0m\n\u001b[1;32m----> 2\u001b[1;33m \u001b[0mshowboard\u001b[0m\u001b[1;33m(\u001b[0m\u001b[0mtestboard\u001b[0m\u001b[1;33m)\u001b[0m\u001b[1;33m\u001b[0m\u001b[0m\n\u001b[0m",
      "\u001b[1;32m<ipython-input-7-9ade0f30fcc2>\u001b[0m in \u001b[0;36mshowboard\u001b[1;34m(board)\u001b[0m\n\u001b[0;32m      2\u001b[0m     \u001b[0mprint\u001b[0m\u001b[1;33m(\u001b[0m\u001b[0mboard\u001b[0m\u001b[1;33m[\u001b[0m\u001b[1;36m1\u001b[0m\u001b[1;33m]\u001b[0m \u001b[1;33m,\u001b[0m \u001b[1;34m'|'\u001b[0m\u001b[1;33m,\u001b[0m \u001b[0mboard\u001b[0m\u001b[1;33m[\u001b[0m\u001b[1;36m2\u001b[0m\u001b[1;33m]\u001b[0m \u001b[1;33m,\u001b[0m\u001b[1;34m'|'\u001b[0m\u001b[1;33m,\u001b[0m \u001b[0mboard\u001b[0m\u001b[1;33m[\u001b[0m\u001b[1;36m3\u001b[0m\u001b[1;33m]\u001b[0m\u001b[1;33m)\u001b[0m\u001b[1;33m\u001b[0m\u001b[0m\n\u001b[0;32m      3\u001b[0m     \u001b[0mprint\u001b[0m\u001b[1;33m(\u001b[0m\u001b[1;34m'----------------'\u001b[0m\u001b[1;33m)\u001b[0m\u001b[1;33m\u001b[0m\u001b[0m\n\u001b[1;32m----> 4\u001b[1;33m     \u001b[0mprint\u001b[0m\u001b[1;33m(\u001b[0m\u001b[0mboard\u001b[0m\u001b[1;33m[\u001b[0m\u001b[1;36m4\u001b[0m\u001b[1;33m]\u001b[0m \u001b[1;33m,\u001b[0m \u001b[1;34m'|'\u001b[0m\u001b[1;33m,\u001b[0m \u001b[0mboard\u001b[0m\u001b[1;33m[\u001b[0m\u001b[1;36m5\u001b[0m\u001b[1;33m]\u001b[0m \u001b[1;33m,\u001b[0m \u001b[1;34m'|'\u001b[0m \u001b[1;33m,\u001b[0m \u001b[0mboard\u001b[0m\u001b[1;33m[\u001b[0m\u001b[1;36m6\u001b[0m\u001b[1;33m]\u001b[0m\u001b[1;33m)\u001b[0m\u001b[1;33m\u001b[0m\u001b[0m\n\u001b[0m\u001b[0;32m      5\u001b[0m     \u001b[0mprint\u001b[0m\u001b[1;33m(\u001b[0m\u001b[1;34m'------------------------------------'\u001b[0m\u001b[1;33m)\u001b[0m\u001b[1;33m\u001b[0m\u001b[0m\n\u001b[0;32m      6\u001b[0m     \u001b[0mprint\u001b[0m\u001b[1;33m(\u001b[0m\u001b[0mboard\u001b[0m\u001b[1;33m[\u001b[0m\u001b[1;36m7\u001b[0m\u001b[1;33m]\u001b[0m \u001b[1;33m,\u001b[0m \u001b[1;34m'|'\u001b[0m \u001b[1;33m,\u001b[0m \u001b[0mboard\u001b[0m\u001b[1;33m[\u001b[0m\u001b[1;36m8\u001b[0m\u001b[1;33m]\u001b[0m \u001b[1;33m,\u001b[0m \u001b[1;34m'|'\u001b[0m \u001b[1;33m,\u001b[0m \u001b[0mboard\u001b[0m\u001b[1;33m[\u001b[0m\u001b[1;36m9\u001b[0m\u001b[1;33m]\u001b[0m\u001b[1;33m)\u001b[0m\u001b[1;33m\u001b[0m\u001b[0m\n",
      "\u001b[1;31mIndexError\u001b[0m: list index out of range"
     ]
    }
   ],
   "source": [
    "testboard = [0,1,2,3]\n",
    "showboard(testboard)"
   ]
  },
  {
   "cell_type": "code",
   "execution_count": null,
   "metadata": {},
   "outputs": [],
   "source": []
  },
  {
   "cell_type": "code",
   "execution_count": null,
   "metadata": {},
   "outputs": [],
   "source": []
  },
  {
   "cell_type": "code",
   "execution_count": null,
   "metadata": {},
   "outputs": [],
   "source": []
  },
  {
   "cell_type": "code",
   "execution_count": null,
   "metadata": {},
   "outputs": [],
   "source": []
  },
  {
   "cell_type": "code",
   "execution_count": 3,
   "metadata": {},
   "outputs": [
    {
     "name": "stdout",
     "output_type": "stream",
     "text": [
      "1 | 2 | 3\n",
      "----------\n",
      "4 | 5 | 6\n",
      "----------\n",
      "7 | 8 | 9\n",
      "----------\n"
     ]
    }
   ],
   "source": [
    "def showboard(board):\n",
    "    print(board[1] , '|', board[2] ,'|', board[3])\n",
    "    print('----------')\n",
    "    print(board[4] , '|', board[5] , '|' , board[6])\n",
    "    print('----------')\n",
    "    print(board[7] , '|' , board[8] , '|' , board[9])\n",
    "    print('----------')\n",
    "\n",
    "testboard = [0,1,2,3,4,5,6,7,8,9]\n",
    "showboard(testboard)\n",
    "\n",
    "def whogoes():\n",
    "    import random\n",
    "    number = random.randint(0,101)\n",
    "    guess_P1 = int(input('Guess a number between 1 and 100!'))\n",
    "    guess_P2 = int(input('Now you guess a number between 1 and 100!'))\n",
    "    if abs(guess_P1 - number) < abs(guess_P2 - number):\n",
    "        print('Player 1 goes first')\n",
    "    else:\n",
    "        print('Player 2 goes first')\n",
    "        \n",
    "def draw():\n",
    "    if not 1 and not 2 and not 3 and not 4 and not 5 and not 6 and not 7 and not 8 and not 9 in testboard:\n",
    "        print(\"It's a draw! No one has to lose and everyone wins!\")\n",
    "        return True\n",
    "    \n",
    "\n",
    "def checkifdone():\n",
    "    if testboard[1] == 'X' and testboard[2] == 'X' and testboard[3] == 'X' or (testboard[1] == 'O' and testboard[2] == 'O' and testboard[3] == 'O'):\n",
    "        return True\n",
    "    if testboard[4] == 'X' and testboard[5] == 'X' and testboard[6] == 'X' or (testboard[4] == 'O' and testboard[5] == 'O' and testboard[6] == 'O'):\n",
    "        return True\n",
    "    if testboard[7] == 'X' and testboard[8] == 'X' and testboard[9] == 'X' or (testboard[7] == 'O' and testboard[8] == 'O' and testboard[9] == 'O'):\n",
    "        return True\n",
    "    if testboard[1] == 'X' and testboard[4] == 'X' and testboard[7] == 'X' or (testboard[1] == 'O' and testboard[4] == 'O' and testboard[7] == 'O'):\n",
    "        return True\n",
    "    if testboard[2] == 'X' and testboard[5] == 'X' and testboard[8] == 'X' or (testboard[2] == 'O' and testboard[5] == 'O' and testboard[8] == 'O'):\n",
    "        return True\n",
    "    if testboard[3] == 'X' and testboard[6] == 'X' and testboard[9] == 'X' or (testboard[3] == 'O' and testboard[6] == 'O' and testboard[9] == 'O'):\n",
    "        return True\n",
    "    if testboard[1] == 'X' and testboard[5] == 'X' and testboard[9] == 'X' or (testboard[1] == 'O' and testboard[5] == 'O' and testboard[9] == 'O'):\n",
    "        return True\n",
    "    if testboard[3] == 'X' and testboard[5] == 'X' and testboard[6]== 'X' or (testboard[3]== 'O' and testboard[5]== 'O' and testboard[6]== 'O'):\n",
    "        return True\n",
    "        \n",
    "def checkopen(move, testboard):\n",
    "    \n",
    "        if testboard[move] == 'X' or testboard[move] == 'O':\n",
    "            return False\n",
    "        else:\n",
    "            return True\n",
    "    \n",
    "def func():\n",
    "    print(\"whatsup dawg, welcome to dave pei's tic-tac-toe game!!!\")\n",
    "    winner = False\n",
    "    whogoes()\n",
    "    while not winner:\n",
    "    \n",
    "        move = int(input('What is your next move?'))          \n",
    "        if not checkopen(move, testboard):\n",
    "            print('Try another square dawg')\n",
    "            continue\n",
    "        testboard[move] = 'X'\n",
    "        showboard(testboard)   \n",
    "        if checkifdone():\n",
    "            print('Player X won! Probably David...')\n",
    "            break\n",
    "        if draw():\n",
    "            break\n",
    "            \n",
    "                   \n",
    "        move = int(input('What is your next move?'))\n",
    "        if not checkopen(move, testboard):\n",
    "            print('Try another square dawg')\n",
    "            continue\n",
    "        testboard[move] = 'O'\n",
    "        showboard(testboard)\n",
    "        if checkifdone():\n",
    "            print('Player O won! Probably David...')\n",
    "            break\n",
    "        if draw():\n",
    "            break"
   ]
  },
  {
   "cell_type": "code",
   "execution_count": null,
   "metadata": {},
   "outputs": [],
   "source": []
  },
  {
   "cell_type": "code",
   "execution_count": null,
   "metadata": {},
   "outputs": [],
   "source": []
  },
  {
   "cell_type": "code",
   "execution_count": null,
   "metadata": {},
   "outputs": [],
   "source": []
  },
  {
   "cell_type": "code",
   "execution_count": null,
   "metadata": {},
   "outputs": [],
   "source": []
  },
  {
   "cell_type": "code",
   "execution_count": null,
   "metadata": {},
   "outputs": [],
   "source": []
  },
  {
   "cell_type": "code",
   "execution_count": 4,
   "metadata": {},
   "outputs": [
    {
     "name": "stdout",
     "output_type": "stream",
     "text": [
      "whatsup dawg, welcome to dave pei's tic-tac-toe game!!!\n",
      "Player 2 goes first\n",
      "X | 2 | 3\n",
      "----------\n",
      "4 | 5 | 6\n",
      "----------\n",
      "7 | 8 | 9\n",
      "----------\n",
      "X | 2 | 3\n",
      "----------\n",
      "4 | O | 6\n",
      "----------\n",
      "7 | 8 | 9\n",
      "----------\n",
      "X | 2 | 3\n",
      "----------\n",
      "4 | O | 6\n",
      "----------\n",
      "7 | 8 | X\n",
      "----------\n",
      "X | O | 3\n",
      "----------\n",
      "4 | O | 6\n",
      "----------\n",
      "7 | 8 | X\n",
      "----------\n",
      "X | O | 3\n",
      "----------\n",
      "4 | O | 6\n",
      "----------\n",
      "7 | X | X\n",
      "----------\n",
      "X | O | O\n",
      "----------\n",
      "4 | O | 6\n",
      "----------\n",
      "7 | X | X\n",
      "----------\n",
      "X | O | O\n",
      "----------\n",
      "4 | O | X\n",
      "----------\n",
      "7 | X | X\n",
      "----------\n",
      "X | O | O\n",
      "----------\n",
      "O | O | X\n",
      "----------\n",
      "7 | X | X\n",
      "----------\n",
      "Try another square dawg\n",
      "Try another square dawg\n",
      "X | O | O\n",
      "----------\n",
      "O | O | X\n",
      "----------\n",
      "X | X | X\n",
      "----------\n",
      "Player X won! Probably David...\n"
     ]
    }
   ],
   "source": [
    "func()"
   ]
  },
  {
   "cell_type": "code",
   "execution_count": null,
   "metadata": {},
   "outputs": [],
   "source": []
  },
  {
   "cell_type": "code",
   "execution_count": null,
   "metadata": {},
   "outputs": [],
   "source": []
  },
  {
   "cell_type": "code",
   "execution_count": null,
   "metadata": {},
   "outputs": [],
   "source": []
  },
  {
   "cell_type": "code",
   "execution_count": null,
   "metadata": {},
   "outputs": [],
   "source": []
  },
  {
   "cell_type": "code",
   "execution_count": null,
   "metadata": {},
   "outputs": [],
   "source": []
  },
  {
   "cell_type": "code",
   "execution_count": null,
   "metadata": {},
   "outputs": [],
   "source": []
  },
  {
   "cell_type": "code",
   "execution_count": 8,
   "metadata": {},
   "outputs": [
    {
     "name": "stdout",
     "output_type": "stream",
     "text": [
      "whatsup dawg, welcome to dave pei's tic-tac-toe game!!!\n",
      "Player 2 goes first\n",
      "X | 2 | 3\n",
      "----------------\n",
      "4 | 5 | 6\n",
      "------------------------------------\n",
      "7 | 8 | 9\n",
      "------------------------------------\n",
      "X | 2 | 3\n",
      "----------------\n",
      "4 | O | 6\n",
      "------------------------------------\n",
      "7 | 8 | 9\n",
      "------------------------------------\n",
      "X | 2 | 3\n",
      "----------------\n",
      "4 | O | 6\n",
      "------------------------------------\n",
      "7 | 8 | X\n",
      "------------------------------------\n",
      "It's a draw! No one has to lose and everyone wins!\n"
     ]
    }
   ],
   "source": [
    "func()"
   ]
  },
  {
   "cell_type": "code",
   "execution_count": null,
   "metadata": {},
   "outputs": [],
   "source": []
  },
  {
   "cell_type": "markdown",
   "metadata": {},
   "source": [
    "func()"
   ]
  },
  {
   "cell_type": "code",
   "execution_count": 4,
   "metadata": {},
   "outputs": [
    {
     "name": "stdout",
     "output_type": "stream",
     "text": [
      "whatsup dawg, welcome to dave pei's tic-tac-toe game!!!\n",
      "X | 2 | 3\n",
      "----------\n",
      "O | 5 | 6\n",
      "----------\n",
      "7 | 8 | 9\n",
      "----------\n",
      "X | O | 3\n",
      "----------\n",
      "O | 5 | 6\n",
      "----------\n",
      "7 | 8 | 9\n",
      "----------\n"
     ]
    }
   ],
   "source": [
    "func()"
   ]
  },
  {
   "cell_type": "code",
   "execution_count": null,
   "metadata": {},
   "outputs": [],
   "source": []
  },
  {
   "cell_type": "code",
   "execution_count": null,
   "metadata": {},
   "outputs": [
    {
     "name": "stdout",
     "output_type": "stream",
     "text": [
      "X | 2 | 3\n",
      "----------\n",
      "4 | 5 | 6\n",
      "----------\n",
      "7 | 8 | 9\n",
      "----------\n",
      "X | O | 3\n",
      "----------\n",
      "4 | 5 | 6\n",
      "----------\n",
      "7 | 8 | 9\n",
      "----------\n",
      "X | O | 3\n",
      "----------\n",
      "4 | 5 | 6\n",
      "----------\n",
      "7 | 8 | 9\n",
      "----------\n",
      "X | O | O\n",
      "----------\n",
      "4 | 5 | 6\n",
      "----------\n",
      "7 | 8 | 9\n",
      "----------\n",
      "X | O | O\n",
      "----------\n",
      "4 | X | 6\n",
      "----------\n",
      "7 | 8 | 9\n",
      "----------\n",
      "X | O | O\n",
      "----------\n",
      "4 | X | O\n",
      "----------\n",
      "7 | 8 | 9\n",
      "----------\n",
      "X | O | O\n",
      "----------\n",
      "4 | X | O\n",
      "----------\n",
      "7 | 8 | X\n",
      "----------\n",
      "Someone won!\n"
     ]
    }
   ],
   "source": [
    "func()"
   ]
  },
  {
   "cell_type": "code",
   "execution_count": null,
   "metadata": {},
   "outputs": [],
   "source": []
  },
  {
   "cell_type": "code",
   "execution_count": null,
   "metadata": {},
   "outputs": [],
   "source": []
  },
  {
   "cell_type": "markdown",
   "metadata": {},
   "source": [
    "func()"
   ]
  },
  {
   "cell_type": "code",
   "execution_count": null,
   "metadata": {},
   "outputs": [],
   "source": [
    "func()"
   ]
  },
  {
   "cell_type": "code",
   "execution_count": null,
   "metadata": {},
   "outputs": [],
   "source": []
  },
  {
   "cell_type": "code",
   "execution_count": null,
   "metadata": {},
   "outputs": [],
   "source": []
  },
  {
   "cell_type": "code",
   "execution_count": null,
   "metadata": {},
   "outputs": [
    {
     "name": "stdout",
     "output_type": "stream",
     "text": [
      "1 2 3 \n",
      "4 5 6 \n",
      "7 8 9 \n",
      "1 O 3 \n",
      "4 5 6 \n",
      "7 8 9 \n",
      "1 2 O \n",
      "4 5 6 \n",
      "7 8 9 \n",
      "1 2 3 \n",
      "4 5 6 \n",
      "7 O 9 \n"
     ]
    }
   ],
   "source": [
    "test_board = [0,1,2,3,4,5,6,7,8,9]\n",
    "func(test_board)"
   ]
  },
  {
   "cell_type": "code",
   "execution_count": 2,
   "metadata": {},
   "outputs": [
    {
     "ename": "TypeError",
     "evalue": "'int' object is not subscriptable",
     "output_type": "error",
     "traceback": [
      "\u001b[1;31m---------------------------------------------------------------------------\u001b[0m",
      "\u001b[1;31mTypeError\u001b[0m                                 Traceback (most recent call last)",
      "\u001b[1;32m<ipython-input-2-bdebf582ed2a>\u001b[0m in \u001b[0;36m<module>\u001b[1;34m()\u001b[0m\n\u001b[0;32m      1\u001b[0m \u001b[0mboard\u001b[0m \u001b[1;33m=\u001b[0m \u001b[1;33m[\u001b[0m\u001b[1;36m1\u001b[0m\u001b[1;33m,\u001b[0m\u001b[1;36m2\u001b[0m\u001b[1;33m,\u001b[0m\u001b[1;36m3\u001b[0m\u001b[1;33m]\u001b[0m\u001b[1;33m,\u001b[0m\u001b[1;33m[\u001b[0m\u001b[1;36m4\u001b[0m\u001b[1;33m,\u001b[0m\u001b[1;36m5\u001b[0m\u001b[1;33m,\u001b[0m\u001b[1;36m6\u001b[0m\u001b[1;33m]\u001b[0m\u001b[1;33m,\u001b[0m\u001b[1;33m[\u001b[0m\u001b[1;36m7\u001b[0m\u001b[1;33m,\u001b[0m\u001b[1;36m8\u001b[0m\u001b[1;33m,\u001b[0m\u001b[1;36m9\u001b[0m\u001b[1;33m]\u001b[0m\u001b[1;33m\u001b[0m\u001b[0m\n\u001b[1;32m----> 2\u001b[1;33m \u001b[0mprint\u001b[0m\u001b[1;33m(\u001b[0m\u001b[0mboard\u001b[0m\u001b[1;33m.\u001b[0m\u001b[0mindex\u001b[0m\u001b[1;33m(\u001b[0m\u001b[1;33m[\u001b[0m\u001b[1;36m4\u001b[0m\u001b[1;33m,\u001b[0m\u001b[1;36m5\u001b[0m\u001b[1;33m,\u001b[0m\u001b[1;36m6\u001b[0m\u001b[1;33m]\u001b[0m\u001b[1;33m)\u001b[0m\u001b[1;33m[\u001b[0m\u001b[1;36m2\u001b[0m\u001b[1;33m]\u001b[0m\u001b[1;33m)\u001b[0m\u001b[1;33m\u001b[0m\u001b[0m\n\u001b[0m",
      "\u001b[1;31mTypeError\u001b[0m: 'int' object is not subscriptable"
     ]
    }
   ],
   "source": [
    "board = [1,2,3],[4,5,6],[7,8,9]\n",
    "print(board.index([4,5,6])"
   ]
  },
  {
   "cell_type": "code",
   "execution_count": null,
   "metadata": {},
   "outputs": [],
   "source": []
  },
  {
   "cell_type": "code",
   "execution_count": 3,
   "metadata": {},
   "outputs": [],
   "source": [
    "def game(move):\n",
    "    board = [[move[1]],[move[2]],[move[3]],'\\n',\n",
    "            [move[4]],[move[5]],[move[6]],'\\n',\n",
    "            [move[7]],[move[8]],[move[9]]]\n",
    "    for i in board:\n",
    "        #for j in i:\n",
    "        print(i, end = \" \")\n",
    "    print()\n",
    "    board"
   ]
  },
  {
   "cell_type": "code",
   "execution_count": null,
   "metadata": {},
   "outputs": [],
   "source": []
  },
  {
   "cell_type": "code",
   "execution_count": null,
   "metadata": {},
   "outputs": [],
   "source": []
  },
  {
   "cell_type": "code",
   "execution_count": null,
   "metadata": {},
   "outputs": [],
   "source": []
  },
  {
   "cell_type": "code",
   "execution_count": null,
   "metadata": {},
   "outputs": [],
   "source": []
  },
  {
   "cell_type": "code",
   "execution_count": 4,
   "metadata": {},
   "outputs": [
    {
     "name": "stdout",
     "output_type": "stream",
     "text": [
      "[1] [2] [3] \n",
      " [4] [5] [6] \n",
      " [7] [8] [9] \n"
     ]
    }
   ],
   "source": [
    "test = [0,1,2,3,4,5,6,7,8,9]\n",
    "game(test)"
   ]
  },
  {
   "cell_type": "code",
   "execution_count": null,
   "metadata": {},
   "outputs": [],
   "source": []
  },
  {
   "cell_type": "code",
   "execution_count": null,
   "metadata": {},
   "outputs": [],
   "source": []
  },
  {
   "cell_type": "code",
   "execution_count": null,
   "metadata": {},
   "outputs": [],
   "source": []
  },
  {
   "cell_type": "code",
   "execution_count": null,
   "metadata": {},
   "outputs": [],
   "source": []
  },
  {
   "cell_type": "code",
   "execution_count": null,
   "metadata": {},
   "outputs": [],
   "source": []
  }
 ],
 "metadata": {
  "kernelspec": {
   "display_name": "Python 3",
   "language": "python",
   "name": "python3"
  },
  "language_info": {
   "codemirror_mode": {
    "name": "ipython",
    "version": 3
   },
   "file_extension": ".py",
   "mimetype": "text/x-python",
   "name": "python",
   "nbconvert_exporter": "python",
   "pygments_lexer": "ipython3",
   "version": "3.6.5"
  }
 },
 "nbformat": 4,
 "nbformat_minor": 2
}
